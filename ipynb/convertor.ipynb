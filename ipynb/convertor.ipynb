{
 "cells": [
  {
   "cell_type": "code",
   "execution_count": 3,
   "metadata": {},
   "outputs": [
    {
     "name": "stdout",
     "output_type": "stream",
     "text": [
      "Requirement already satisfied: roboflow in c:\\users\\admin\\onedrive\\desktop\\college\\tensorflow\\.env\\lib\\site-packages (0.2.4)Note: you may need to restart the kernel to use updated packages.\n",
      "\n",
      "Requirement already satisfied: tqdm>=4.41.0 in c:\\users\\admin\\onedrive\\desktop\\college\\tensorflow\\.env\\lib\\site-packages (from roboflow) (4.64.0)\n",
      "Requirement already satisfied: PyYAML>=5.3.1 in c:\\users\\admin\\onedrive\\desktop\\college\\tensorflow\\.env\\lib\\site-packages (from roboflow) (5.4.1)\n",
      "Requirement already satisfied: urllib3==1.26.6 in c:\\users\\admin\\onedrive\\desktop\\college\\tensorflow\\.env\\lib\\site-packages (from roboflow) (1.26.6)\n",
      "Requirement already satisfied: Pillow>=7.1.2 in c:\\users\\admin\\onedrive\\desktop\\college\\tensorflow\\.env\\lib\\site-packages (from roboflow) (9.1.0)\n",
      "Requirement already satisfied: pyparsing==2.4.7 in c:\\users\\admin\\onedrive\\desktop\\college\\tensorflow\\.env\\lib\\site-packages (from roboflow) (2.4.7)\n",
      "Requirement already satisfied: certifi==2021.5.30 in c:\\users\\admin\\onedrive\\desktop\\college\\tensorflow\\.env\\lib\\site-packages (from roboflow) (2021.5.30)\n",
      "Requirement already satisfied: six in c:\\users\\admin\\onedrive\\desktop\\college\\tensorflow\\.env\\lib\\site-packages (from roboflow) (1.16.0)\n",
      "Requirement already satisfied: matplotlib in c:\\users\\admin\\onedrive\\desktop\\college\\tensorflow\\.env\\lib\\site-packages (from roboflow) (3.5.1)\n",
      "Requirement already satisfied: wget in c:\\users\\admin\\onedrive\\desktop\\college\\tensorflow\\.env\\lib\\site-packages (from roboflow) (3.2)\n",
      "Requirement already satisfied: requests-toolbelt in c:\\users\\admin\\onedrive\\desktop\\college\\tensorflow\\.env\\lib\\site-packages (from roboflow) (0.9.1)\n",
      "Requirement already satisfied: python-dotenv in c:\\users\\admin\\onedrive\\desktop\\college\\tensorflow\\.env\\lib\\site-packages (from roboflow) (0.20.0)\n",
      "Requirement already satisfied: requests in c:\\users\\admin\\onedrive\\desktop\\college\\tensorflow\\.env\\lib\\site-packages (from roboflow) (2.27.1)\n",
      "Requirement already satisfied: numpy>=1.18.5 in c:\\users\\admin\\onedrive\\desktop\\college\\tensorflow\\.env\\lib\\site-packages (from roboflow) (1.22.3)\n",
      "Requirement already satisfied: opencv-python>=4.1.2 in c:\\users\\admin\\onedrive\\desktop\\college\\tensorflow\\.env\\lib\\site-packages (from roboflow) (4.5.5.64)\n",
      "Requirement already satisfied: python-dateutil in c:\\users\\admin\\onedrive\\desktop\\college\\tensorflow\\.env\\lib\\site-packages (from roboflow) (2.8.2)\n",
      "Requirement already satisfied: idna==2.10 in c:\\users\\admin\\onedrive\\desktop\\college\\tensorflow\\.env\\lib\\site-packages (from roboflow) (2.10)\n",
      "Requirement already satisfied: cycler==0.10.0 in c:\\users\\admin\\onedrive\\desktop\\college\\tensorflow\\.env\\lib\\site-packages (from roboflow) (0.10.0)\n",
      "Requirement already satisfied: kiwisolver==1.3.1 in c:\\users\\admin\\onedrive\\desktop\\college\\tensorflow\\.env\\lib\\site-packages (from roboflow) (1.3.1)\n",
      "Requirement already satisfied: chardet==4.0.0 in c:\\users\\admin\\onedrive\\desktop\\college\\tensorflow\\.env\\lib\\site-packages (from roboflow) (4.0.0)\n",
      "Requirement already satisfied: colorama in c:\\users\\admin\\onedrive\\desktop\\college\\tensorflow\\.env\\lib\\site-packages (from tqdm>=4.41.0->roboflow) (0.4.3)\n",
      "Requirement already satisfied: packaging>=20.0 in c:\\users\\admin\\onedrive\\desktop\\college\\tensorflow\\.env\\lib\\site-packages (from matplotlib->roboflow) (21.3)\n",
      "Requirement already satisfied: fonttools>=4.22.0 in c:\\users\\admin\\onedrive\\desktop\\college\\tensorflow\\.env\\lib\\site-packages (from matplotlib->roboflow) (4.32.0)\n",
      "Requirement already satisfied: charset-normalizer~=2.0.0 in c:\\users\\admin\\onedrive\\desktop\\college\\tensorflow\\.env\\lib\\site-packages (from requests->roboflow) (2.0.12)\n"
     ]
    }
   ],
   "source": [
    "%pip install roboflow\n",
    "\n"
   ]
  },
  {
   "cell_type": "code",
   "execution_count": 4,
   "metadata": {},
   "outputs": [
    {
     "name": "stdout",
     "output_type": "stream",
     "text": [
      "loading Roboflow workspace...\n",
      "loading Roboflow project...\n",
      "Downloading Dataset Version Zip in plastic-detection-2 to yolov5-obb: 100% [38189443 / 38189443] bytes\n"
     ]
    },
    {
     "name": "stderr",
     "output_type": "stream",
     "text": [
      "Extracting Dataset Version Zip to plastic-detection-2 in yolov5-obb:: 100%|██████████| 1630/1630 [00:01<00:00, 1574.88it/s]\n"
     ]
    }
   ],
   "source": [
    "from roboflow import Roboflow\n",
    "rf = Roboflow(api_key=\"ydcfZusbpX9onf7r3VsZ\")\n",
    "project = rf.workspace(\"kiridharan\").project(\"plastic-detection-rypmj\")\n",
    "dataset = project.version(2).download(\"yolov5-obb\")"
   ]
  }
 ],
 "metadata": {
  "interpreter": {
   "hash": "578510cd789895bde6941e3fa3f7a6babe726b56fa5f956105c9c13871e36e59"
  },
  "kernelspec": {
   "display_name": "Python 3.10.2 ('.env': venv)",
   "language": "python",
   "name": "python3"
  },
  "language_info": {
   "codemirror_mode": {
    "name": "ipython",
    "version": 3
   },
   "file_extension": ".py",
   "mimetype": "text/x-python",
   "name": "python",
   "nbconvert_exporter": "python",
   "pygments_lexer": "ipython3",
   "version": "3.10.2"
  },
  "orig_nbformat": 4
 },
 "nbformat": 4,
 "nbformat_minor": 2
}
