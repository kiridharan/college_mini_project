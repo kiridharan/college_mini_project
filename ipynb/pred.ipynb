{
 "cells": [
  {
   "cell_type": "code",
   "execution_count": 1,
   "metadata": {},
   "outputs": [],
   "source": [
    "import cv2\n",
    "import keras\n",
    "from PIL import Image, ImageOps"
   ]
  },
  {
   "cell_type": "code",
   "execution_count": 6,
   "metadata": {},
   "outputs": [],
   "source": [
    "import numpy as np\n",
    "Category = ['Cardboard', 'Glass' , 'Metal', 'Paper', 'Plastic']\n",
    "\n",
    "def image(path):\n",
    "    img = cv2.imread(path, cv2.)\n",
    "    new_arr = cv2.resize(img, (100, 100))\n",
    "    new_arr = np.array(new_arr)\n",
    "    new_arr = new_arr.reshape(-1, 100, 100, 3)\n",
    "    return new_arr\n",
    "\n",
    "model = keras.models.load_model('model.h5')\n"
   ]
  },
  {
   "cell_type": "code",
   "execution_count": 8,
   "metadata": {},
   "outputs": [
    {
     "ename": "IndexError",
     "evalue": "list index out of range",
     "output_type": "error",
     "traceback": [
      "\u001b[1;31m---------------------------------------------------------------------------\u001b[0m",
      "\u001b[1;31mIndexError\u001b[0m                                Traceback (most recent call last)",
      "\u001b[1;32mc:\\Users\\Admin\\OneDrive\\Desktop\\College\\Tensorflow\\ipynb\\pred.ipynb Cell 3'\u001b[0m in \u001b[0;36m<cell line: 2>\u001b[1;34m()\u001b[0m\n\u001b[0;32m      <a href='vscode-notebook-cell:/c%3A/Users/Admin/OneDrive/Desktop/College/Tensorflow/ipynb/pred.ipynb#ch0000002?line=0'>1</a>\u001b[0m \u001b[39m# prediction = model.predict([image('3.jpg')])\u001b[39;00m\n\u001b[1;32m----> <a href='vscode-notebook-cell:/c%3A/Users/Admin/OneDrive/Desktop/College/Tensorflow/ipynb/pred.ipynb#ch0000002?line=1'>2</a>\u001b[0m model\u001b[39m.\u001b[39;49mpredict(\u001b[39m'\u001b[39;49m\u001b[39m3.jpg\u001b[39;49m\u001b[39m'\u001b[39;49m)\n",
      "File \u001b[1;32m~\\OneDrive\\Desktop\\College\\Tensorflow\\.env\\lib\\site-packages\\keras\\utils\\traceback_utils.py:67\u001b[0m, in \u001b[0;36mfilter_traceback.<locals>.error_handler\u001b[1;34m(*args, **kwargs)\u001b[0m\n\u001b[0;32m     <a href='file:///c%3A/Users/Admin/OneDrive/Desktop/College/Tensorflow/.env/lib/site-packages/keras/utils/traceback_utils.py?line=64'>65</a>\u001b[0m \u001b[39mexcept\u001b[39;00m \u001b[39mException\u001b[39;00m \u001b[39mas\u001b[39;00m e:  \u001b[39m# pylint: disable=broad-except\u001b[39;00m\n\u001b[0;32m     <a href='file:///c%3A/Users/Admin/OneDrive/Desktop/College/Tensorflow/.env/lib/site-packages/keras/utils/traceback_utils.py?line=65'>66</a>\u001b[0m   filtered_tb \u001b[39m=\u001b[39m _process_traceback_frames(e\u001b[39m.\u001b[39m__traceback__)\n\u001b[1;32m---> <a href='file:///c%3A/Users/Admin/OneDrive/Desktop/College/Tensorflow/.env/lib/site-packages/keras/utils/traceback_utils.py?line=66'>67</a>\u001b[0m   \u001b[39mraise\u001b[39;00m e\u001b[39m.\u001b[39mwith_traceback(filtered_tb) \u001b[39mfrom\u001b[39;00m \u001b[39mNone\u001b[39m\n\u001b[0;32m     <a href='file:///c%3A/Users/Admin/OneDrive/Desktop/College/Tensorflow/.env/lib/site-packages/keras/utils/traceback_utils.py?line=67'>68</a>\u001b[0m \u001b[39mfinally\u001b[39;00m:\n\u001b[0;32m     <a href='file:///c%3A/Users/Admin/OneDrive/Desktop/College/Tensorflow/.env/lib/site-packages/keras/utils/traceback_utils.py?line=68'>69</a>\u001b[0m   \u001b[39mdel\u001b[39;00m filtered_tb\n",
      "File \u001b[1;32m~\\OneDrive\\Desktop\\College\\Tensorflow\\.env\\lib\\site-packages\\tensorflow\\python\\framework\\tensor_shape.py:902\u001b[0m, in \u001b[0;36mTensorShape.__getitem__\u001b[1;34m(self, key)\u001b[0m\n\u001b[0;32m    <a href='file:///c%3A/Users/Admin/OneDrive/Desktop/College/Tensorflow/.env/lib/site-packages/tensorflow/python/framework/tensor_shape.py?line=899'>900</a>\u001b[0m \u001b[39melse\u001b[39;00m:\n\u001b[0;32m    <a href='file:///c%3A/Users/Admin/OneDrive/Desktop/College/Tensorflow/.env/lib/site-packages/tensorflow/python/framework/tensor_shape.py?line=900'>901</a>\u001b[0m   \u001b[39mif\u001b[39;00m \u001b[39mself\u001b[39m\u001b[39m.\u001b[39m_v2_behavior:\n\u001b[1;32m--> <a href='file:///c%3A/Users/Admin/OneDrive/Desktop/College/Tensorflow/.env/lib/site-packages/tensorflow/python/framework/tensor_shape.py?line=901'>902</a>\u001b[0m     \u001b[39mreturn\u001b[39;00m \u001b[39mself\u001b[39;49m\u001b[39m.\u001b[39;49m_dims[key]\u001b[39m.\u001b[39mvalue\n\u001b[0;32m    <a href='file:///c%3A/Users/Admin/OneDrive/Desktop/College/Tensorflow/.env/lib/site-packages/tensorflow/python/framework/tensor_shape.py?line=902'>903</a>\u001b[0m   \u001b[39melse\u001b[39;00m:\n\u001b[0;32m    <a href='file:///c%3A/Users/Admin/OneDrive/Desktop/College/Tensorflow/.env/lib/site-packages/tensorflow/python/framework/tensor_shape.py?line=903'>904</a>\u001b[0m     \u001b[39mreturn\u001b[39;00m \u001b[39mself\u001b[39m\u001b[39m.\u001b[39m_dims[key]\n",
      "\u001b[1;31mIndexError\u001b[0m: list index out of range"
     ]
    }
   ],
   "source": [
    "\n",
    "prediction = model.predict([image('3.jpg')])\n"
   ]
  }
 ],
 "metadata": {
  "interpreter": {
   "hash": "578510cd789895bde6941e3fa3f7a6babe726b56fa5f956105c9c13871e36e59"
  },
  "kernelspec": {
   "display_name": "Python 3.10.2 ('.env': venv)",
   "language": "python",
   "name": "python3"
  },
  "language_info": {
   "codemirror_mode": {
    "name": "ipython",
    "version": 3
   },
   "file_extension": ".py",
   "mimetype": "text/x-python",
   "name": "python",
   "nbconvert_exporter": "python",
   "pygments_lexer": "ipython3",
   "version": "3.10.2"
  },
  "orig_nbformat": 4
 },
 "nbformat": 4,
 "nbformat_minor": 2
}
