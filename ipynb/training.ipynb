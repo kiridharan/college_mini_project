{
 "cells": [
  {
   "cell_type": "code",
   "execution_count": 1,
   "metadata": {},
   "outputs": [],
   "source": [
    "import pickle"
   ]
  },
  {
   "cell_type": "code",
   "execution_count": 2,
   "metadata": {},
   "outputs": [],
   "source": [
    "X = pickle.load(open('X.pkl', 'rb'))\n",
    "Y = pickle.load(open('Y.pkl', 'rb'))"
   ]
  },
  {
   "cell_type": "code",
   "execution_count": 3,
   "metadata": {},
   "outputs": [],
   "source": [
    "X = X/255"
   ]
  },
  {
   "cell_type": "code",
   "execution_count": 4,
   "metadata": {},
   "outputs": [
    {
     "data": {
      "text/plain": [
       "(2390, 100, 100, 3)"
      ]
     },
     "execution_count": 4,
     "metadata": {},
     "output_type": "execute_result"
    }
   ],
   "source": [
    "X.shape"
   ]
  },
  {
   "cell_type": "code",
   "execution_count": 5,
   "metadata": {},
   "outputs": [],
   "source": [
    "import tensorflow as tf \n",
    "\n",
    "from keras.models import Sequential\n",
    "from keras.layers import Conv2D , MaxPooling2D , Flatten , Dense"
   ]
  },
  {
   "cell_type": "code",
   "execution_count": null,
   "metadata": {},
   "outputs": [],
   "source": []
  },
  {
   "cell_type": "code",
   "execution_count": null,
   "metadata": {},
   "outputs": [],
   "source": []
  },
  {
   "cell_type": "code",
   "execution_count": 6,
   "metadata": {},
   "outputs": [],
   "source": [
    "model = Sequential()\n",
    "\n",
    "model.add(Conv2D(128 , (3,3), activation='relu'))\n",
    "model.add(MaxPooling2D(pool_size=(2,2)))\n",
    "\n",
    "model.add(Conv2D(128 , (3,3), activation='relu'))\n",
    "model.add(MaxPooling2D(pool_size=(2,2)))\n",
    "\n",
    "model.add(Flatten())\n",
    "\n",
    "model.add(Dense(256 , input_shape= X.shape[1:] , activation='relu'))\n",
    "\n",
    "model.add(Dense(5 , activation='softmax'))"
   ]
  },
  {
   "cell_type": "code",
   "execution_count": 7,
   "metadata": {},
   "outputs": [],
   "source": [
    "model.compile(optimizer='adam' , loss='sparse_categorical_crossentropy' , metrics=['accuracy'])"
   ]
  },
  {
   "cell_type": "code",
   "execution_count": 8,
   "metadata": {},
   "outputs": [
    {
     "name": "stdout",
     "output_type": "stream",
     "text": [
      "Epoch 1/12\n",
      "68/68 [==============================] - 36s 513ms/step - loss: 1.8477 - accuracy: 0.2311 - val_loss: 1.6076 - val_accuracy: 0.1967\n",
      "Epoch 2/12\n",
      "68/68 [==============================] - 34s 497ms/step - loss: 1.5834 - accuracy: 0.2664 - val_loss: 1.5824 - val_accuracy: 0.2594\n",
      "Epoch 3/12\n",
      "68/68 [==============================] - 35s 511ms/step - loss: 1.4206 - accuracy: 0.3891 - val_loss: 1.7300 - val_accuracy: 0.3138\n",
      "Epoch 4/12\n",
      "68/68 [==============================] - 34s 496ms/step - loss: 1.2990 - accuracy: 0.4593 - val_loss: 1.4062 - val_accuracy: 0.3598\n",
      "Epoch 5/12\n",
      "68/68 [==============================] - 34s 496ms/step - loss: 1.1009 - accuracy: 0.5676 - val_loss: 1.4850 - val_accuracy: 0.3849\n",
      "Epoch 6/12\n",
      "68/68 [==============================] - 34s 498ms/step - loss: 0.8773 - accuracy: 0.6625 - val_loss: 1.5475 - val_accuracy: 0.4393\n",
      "Epoch 7/12\n",
      "68/68 [==============================] - 34s 496ms/step - loss: 0.6942 - accuracy: 0.7406 - val_loss: 1.6951 - val_accuracy: 0.4561\n",
      "Epoch 8/12\n",
      "68/68 [==============================] - 34s 506ms/step - loss: 0.5258 - accuracy: 0.8103 - val_loss: 1.6463 - val_accuracy: 0.4937\n",
      "Epoch 9/12\n",
      "68/68 [==============================] - 34s 505ms/step - loss: 0.4539 - accuracy: 0.8396 - val_loss: 2.0386 - val_accuracy: 0.4477\n",
      "Epoch 10/12\n",
      "68/68 [==============================] - 34s 500ms/step - loss: 0.2986 - accuracy: 0.9028 - val_loss: 1.9949 - val_accuracy: 0.4770\n",
      "Epoch 11/12\n",
      "68/68 [==============================] - 34s 504ms/step - loss: 0.2446 - accuracy: 0.9172 - val_loss: 2.5666 - val_accuracy: 0.5021\n",
      "Epoch 12/12\n",
      "68/68 [==============================] - 34s 496ms/step - loss: 0.1783 - accuracy: 0.9414 - val_loss: 2.7747 - val_accuracy: 0.4728\n"
     ]
    },
    {
     "data": {
      "text/plain": [
       "<keras.callbacks.History at 0x17775a48a00>"
      ]
     },
     "execution_count": 8,
     "metadata": {},
     "output_type": "execute_result"
    }
   ],
   "source": [
    "model.fit(X,Y , epochs=12 , validation_split=0.1)"
   ]
  },
  {
   "cell_type": "code",
   "execution_count": 14,
   "metadata": {},
   "outputs": [
    {
     "data": {
      "text/plain": [
       "array([[0.33362943, 0.03968621, 0.05782124, 0.3556174 , 0.2132457 ]],\n",
       "      dtype=float32)"
      ]
     },
     "execution_count": 14,
     "metadata": {},
     "output_type": "execute_result"
    }
   ],
   "source": [
    "model.predict(X[:1])"
   ]
  },
  {
   "cell_type": "code",
   "execution_count": 12,
   "metadata": {},
   "outputs": [
    {
     "ename": "AttributeError",
     "evalue": "'Sequential' object has no attribute 'export'",
     "output_type": "error",
     "traceback": [
      "\u001b[1;31m---------------------------------------------------------------------------\u001b[0m",
      "\u001b[1;31mAttributeError\u001b[0m                            Traceback (most recent call last)",
      "\u001b[1;32mc:\\Users\\Admin\\OneDrive\\Desktop\\College\\Tensorflow\\ipynb\\training.ipynb Cell 12'\u001b[0m in \u001b[0;36m<cell line: 1>\u001b[1;34m()\u001b[0m\n\u001b[1;32m----> <a href='vscode-notebook-cell:/c%3A/Users/Admin/OneDrive/Desktop/College/Tensorflow/ipynb/training.ipynb#ch0000011?line=0'>1</a>\u001b[0m model\u001b[39m.\u001b[39;49mexport(\u001b[39m'\u001b[39m\u001b[39mmodel.tflite\u001b[39m\u001b[39m'\u001b[39m)\n",
      "\u001b[1;31mAttributeError\u001b[0m: 'Sequential' object has no attribute 'export'"
     ]
    }
   ],
   "source": [
    "model.export('model.tflite')"
   ]
  }
 ],
 "metadata": {
  "interpreter": {
   "hash": "578510cd789895bde6941e3fa3f7a6babe726b56fa5f956105c9c13871e36e59"
  },
  "kernelspec": {
   "display_name": "Python 3.10.2 ('.env': venv)",
   "language": "python",
   "name": "python3"
  },
  "language_info": {
   "codemirror_mode": {
    "name": "ipython",
    "version": 3
   },
   "file_extension": ".py",
   "mimetype": "text/x-python",
   "name": "python",
   "nbconvert_exporter": "python",
   "pygments_lexer": "ipython3",
   "version": "3.10.2"
  },
  "orig_nbformat": 4
 },
 "nbformat": 4,
 "nbformat_minor": 2
}
