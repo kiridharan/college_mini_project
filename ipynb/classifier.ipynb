{
 "cells": [
  {
   "cell_type": "code",
   "execution_count": 8,
   "metadata": {},
   "outputs": [],
   "source": [
    "from msilib import Directory\n",
    "import os\n",
    "from unicodedata import category\n",
    "import numpy as np\n",
    "import cv2\n",
    "import random\n",
    "import matplotlib.pyplot as plt\n",
    "import pickle"
   ]
  },
  {
   "cell_type": "code",
   "execution_count": 12,
   "metadata": {},
   "outputs": [],
   "source": [
    "Directory = r'C:\\Users\\Admin\\OneDrive\\Desktop\\College\\Tensorflow\\ipynb\\dataset'\n",
    "Category = ['cardboard', 'glass' , 'metal', 'paper', 'plastic']\n"
   ]
  },
  {
   "cell_type": "code",
   "execution_count": 18,
   "metadata": {},
   "outputs": [
    {
     "name": "stdout",
     "output_type": "stream",
     "text": [
      "None\n",
      "None\n",
      "None\n",
      "None\n",
      "None\n"
     ]
    }
   ],
   "source": [
    "IMG_SIZE = 100\n",
    "\n",
    "data = []\n",
    "for category in Category:\n",
    "    folder = os.path.join(Directory, category)\n",
    "    label = Category.index(category)\n",
    "    for img in os.listdir(folder):\n",
    "        img_show = cv2.imshow('', cv2.imread(os.path.join(folder, img)))\n",
    "        print(img_show)\n",
    "        break\n",
    "        img_path = os.path.join(folder, img)\n",
    "        img_arr = cv2.imread(img_path)\n",
    "        img_arr = cv2.resize(img_arr, (IMG_SIZE, IMG_SIZE))\n",
    "        data.append([img_arr, label])"
   ]
  },
  {
   "cell_type": "code",
   "execution_count": null,
   "metadata": {},
   "outputs": [],
   "source": [
    "random.shuffle(data)"
   ]
  },
  {
   "cell_type": "code",
   "execution_count": 14,
   "metadata": {},
   "outputs": [
    {
     "data": {
      "text/plain": [
       "[[array([[[168, 203, 243],\n",
       "          [167, 202, 242],\n",
       "          [168, 203, 243],\n",
       "          ...,\n",
       "          [146, 175, 219],\n",
       "          [145, 174, 218],\n",
       "          [142, 171, 215]],\n",
       "  \n",
       "         [[169, 205, 244],\n",
       "          [170, 205, 245],\n",
       "          [168, 203, 243],\n",
       "          ...,\n",
       "          [145, 174, 218],\n",
       "          [142, 170, 215],\n",
       "          [146, 175, 219]],\n",
       "  \n",
       "         [[167, 202, 242],\n",
       "          [168, 203, 243],\n",
       "          [166, 201, 241],\n",
       "          ...,\n",
       "          [145, 174, 217],\n",
       "          [140, 169, 213],\n",
       "          [146, 175, 219]],\n",
       "  \n",
       "         ...,\n",
       "  \n",
       "         [[118, 144, 184],\n",
       "          [105, 131, 168],\n",
       "          [121, 146, 180],\n",
       "          ...,\n",
       "          [ 68,  90, 115],\n",
       "          [ 66,  88, 113],\n",
       "          [ 68,  90, 115]],\n",
       "  \n",
       "         [[118, 144, 185],\n",
       "          [120, 146, 183],\n",
       "          [120, 145, 179],\n",
       "          ...,\n",
       "          [ 66,  88, 113],\n",
       "          [ 65,  86, 111],\n",
       "          [ 69,  91, 116]],\n",
       "  \n",
       "         [[121, 147, 187],\n",
       "          [117, 143, 180],\n",
       "          [119, 144, 178],\n",
       "          ...,\n",
       "          [ 66,  88, 113],\n",
       "          [ 66,  88, 113],\n",
       "          [ 67,  89, 114]]], dtype=uint8),\n",
       "  0]]"
      ]
     },
     "execution_count": 14,
     "metadata": {},
     "output_type": "execute_result"
    }
   ],
   "source": [
    "# data[0]\n",
    "data[:1]"
   ]
  },
  {
   "cell_type": "code",
   "execution_count": null,
   "metadata": {},
   "outputs": [],
   "source": [
    "X = []\n",
    "Y = []\n",
    "\n",
    "for features , labels in data:\n",
    "    X.append(features)\n",
    "    Y.append(labels)"
   ]
  },
  {
   "cell_type": "code",
   "execution_count": null,
   "metadata": {},
   "outputs": [
    {
     "data": {
      "text/plain": [
       "2390"
      ]
     },
     "execution_count": 12,
     "metadata": {},
     "output_type": "execute_result"
    }
   ],
   "source": [
    "X = np.array(X)\n",
    "Y = np.array(Y)"
   ]
  },
  {
   "cell_type": "code",
   "execution_count": null,
   "metadata": {},
   "outputs": [],
   "source": [
    "pickle.dump(X, open('X.pkl', 'wb'))\n",
    "pickle.dump(Y, open('Y.pkl', 'wb'))"
   ]
  }
 ],
 "metadata": {
  "interpreter": {
   "hash": "38740d3277777e2cd7c6c2cc9d8addf5118fdf3f82b1b39231fd12aeac8aee8b"
  },
  "kernelspec": {
   "display_name": "Python 3.10.2 64-bit",
   "language": "python",
   "name": "python3"
  },
  "language_info": {
   "codemirror_mode": {
    "name": "ipython",
    "version": 3
   },
   "file_extension": ".py",
   "mimetype": "text/x-python",
   "name": "python",
   "nbconvert_exporter": "python",
   "pygments_lexer": "ipython3",
   "version": "3.10.2"
  },
  "orig_nbformat": 4
 },
 "nbformat": 4,
 "nbformat_minor": 2
}
